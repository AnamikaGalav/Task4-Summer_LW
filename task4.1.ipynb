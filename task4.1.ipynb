{
 "cells": [
  {
   "cell_type": "code",
   "execution_count": 1,
   "id": "ef90ecb3",
   "metadata": {},
   "outputs": [],
   "source": [
    "import cv2\n",
    "import numpy"
   ]
  },
  {
   "cell_type": "code",
   "execution_count": 2,
   "id": "8157f97d",
   "metadata": {},
   "outputs": [],
   "source": [
    "black_board = numpy.zeros((500,500*3)).reshape(500,500,3)"
   ]
  },
  {
   "cell_type": "code",
   "execution_count": 3,
   "id": "a933c481",
   "metadata": {},
   "outputs": [
    {
     "data": {
      "text/plain": [
       "(500, 500, 3)"
      ]
     },
     "execution_count": 3,
     "metadata": {},
     "output_type": "execute_result"
    }
   ],
   "source": [
    "black_board.shape"
   ]
  },
  {
   "cell_type": "code",
   "execution_count": 4,
   "id": "f464e3b1",
   "metadata": {},
   "outputs": [
    {
     "data": {
      "text/plain": [
       "True"
      ]
     },
     "execution_count": 4,
     "metadata": {},
     "output_type": "execute_result"
    }
   ],
   "source": [
    "cv2.imwrite('black_board.jpg',black_board)"
   ]
  },
  {
   "cell_type": "code",
   "execution_count": 5,
   "id": "9d6237ce",
   "metadata": {},
   "outputs": [
    {
     "data": {
      "text/plain": [
       "array([[[0., 0., 0.],\n",
       "        [0., 0., 0.],\n",
       "        [0., 0., 0.],\n",
       "        ...,\n",
       "        [0., 0., 0.],\n",
       "        [0., 0., 0.],\n",
       "        [0., 0., 0.]],\n",
       "\n",
       "       [[0., 0., 0.],\n",
       "        [0., 0., 0.],\n",
       "        [0., 0., 0.],\n",
       "        ...,\n",
       "        [0., 0., 0.],\n",
       "        [0., 0., 0.],\n",
       "        [0., 0., 0.]],\n",
       "\n",
       "       [[0., 0., 0.],\n",
       "        [0., 0., 0.],\n",
       "        [0., 0., 0.],\n",
       "        ...,\n",
       "        [0., 0., 0.],\n",
       "        [0., 0., 0.],\n",
       "        [0., 0., 0.]],\n",
       "\n",
       "       ...,\n",
       "\n",
       "       [[0., 0., 0.],\n",
       "        [0., 0., 0.],\n",
       "        [0., 0., 0.],\n",
       "        ...,\n",
       "        [0., 0., 0.],\n",
       "        [0., 0., 0.],\n",
       "        [0., 0., 0.]],\n",
       "\n",
       "       [[0., 0., 0.],\n",
       "        [0., 0., 0.],\n",
       "        [0., 0., 0.],\n",
       "        ...,\n",
       "        [0., 0., 0.],\n",
       "        [0., 0., 0.],\n",
       "        [0., 0., 0.]],\n",
       "\n",
       "       [[0., 0., 0.],\n",
       "        [0., 0., 0.],\n",
       "        [0., 0., 0.],\n",
       "        ...,\n",
       "        [0., 0., 0.],\n",
       "        [0., 0., 0.],\n",
       "        [0., 0., 0.]]])"
      ]
     },
     "execution_count": 5,
     "metadata": {},
     "output_type": "execute_result"
    }
   ],
   "source": [
    "black_board"
   ]
  },
  {
   "cell_type": "code",
   "execution_count": 6,
   "id": "a3007672",
   "metadata": {},
   "outputs": [],
   "source": [
    "x1=125+100\n",
    "y1=40+30\n",
    "red = [0,0,255]"
   ]
  },
  {
   "cell_type": "code",
   "execution_count": 7,
   "id": "e675e4c7",
   "metadata": {},
   "outputs": [],
   "source": [
    "Jack = cv2.circle(black_board, (x1,y1),50,red, 6)\n",
    "Jack = cv2.line(black_board,(x1,y1+50),(x1,y1+50+100),red, 6)\n",
    "Jack = cv2.line(black_board,(x1,y1+50),(x1-30,y1+50+25),red, 6)\n",
    "Jack = cv2.line(black_board,(x1,y1+50),(x1+30,y1+50+25),red, 6)\n",
    "Jack = cv2.line(black_board,(x1,y1+50+100),(x1-30,y1+50+100+25),red, 6)\n",
    "Jack = cv2.line(black_board,(x1,y1+50+100),(x1+30,y1+50+100+25),red, 6)"
   ]
  },
  {
   "cell_type": "code",
   "execution_count": 8,
   "id": "0800622b",
   "metadata": {},
   "outputs": [
    {
     "data": {
      "text/plain": [
       "True"
      ]
     },
     "execution_count": 8,
     "metadata": {},
     "output_type": "execute_result"
    }
   ],
   "source": [
    "cv2.imwrite('Jack.jpg',Jack)"
   ]
  },
  {
   "cell_type": "code",
   "execution_count": 9,
   "id": "f4306ee1",
   "metadata": {},
   "outputs": [],
   "source": [
    "cv2.imshow('Jack', Jack)\n",
    "cv2.waitKey(0)\n",
    "cv2.destroyAllWindows()"
   ]
  },
  {
   "cell_type": "code",
   "execution_count": null,
   "id": "4174d3a7",
   "metadata": {},
   "outputs": [],
   "source": []
  }
 ],
 "metadata": {
  "kernelspec": {
   "display_name": "Python 3",
   "language": "python",
   "name": "python3"
  },
  "language_info": {
   "codemirror_mode": {
    "name": "ipython",
    "version": 3
   },
   "file_extension": ".py",
   "mimetype": "text/x-python",
   "name": "python",
   "nbconvert_exporter": "python",
   "pygments_lexer": "ipython3",
   "version": "3.7.6"
  }
 },
 "nbformat": 4,
 "nbformat_minor": 5
}
